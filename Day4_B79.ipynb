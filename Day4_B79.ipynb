{
 "cells": [
  {
   "cell_type": "code",
   "execution_count": 2,
   "id": "01162a65",
   "metadata": {},
   "outputs": [],
   "source": [
    "#List datatype"
   ]
  },
  {
   "cell_type": "code",
   "execution_count": null,
   "id": "ff397509",
   "metadata": {},
   "outputs": [],
   "source": [
    "a list is a collection of items declared in a particular order\n",
    "\n",
    "classification: it is classified as a mutable datatype"
   ]
  },
  {
   "cell_type": "code",
   "execution_count": 41,
   "id": "97903736",
   "metadata": {},
   "outputs": [],
   "source": [
    "students = ['abc', 'def', 'ghi']"
   ]
  },
  {
   "cell_type": "code",
   "execution_count": 5,
   "id": "df3a9364",
   "metadata": {},
   "outputs": [
    {
     "data": {
      "text/plain": [
       "list"
      ]
     },
     "execution_count": 5,
     "metadata": {},
     "output_type": "execute_result"
    }
   ],
   "source": [
    "type(students)"
   ]
  },
  {
   "cell_type": "code",
   "execution_count": 42,
   "id": "29e5a38c",
   "metadata": {},
   "outputs": [
    {
     "name": "stdout",
     "output_type": "stream",
     "text": [
      "['abc', 'def', 'ghi']\n"
     ]
    }
   ],
   "source": [
    "print(students)"
   ]
  },
  {
   "cell_type": "code",
   "execution_count": 7,
   "id": "ad5c017e",
   "metadata": {},
   "outputs": [
    {
     "name": "stdout",
     "output_type": "stream",
     "text": [
      "def\n"
     ]
    }
   ],
   "source": [
    "print(students[1])"
   ]
  },
  {
   "cell_type": "code",
   "execution_count": null,
   "id": "c839e28a",
   "metadata": {},
   "outputs": [],
   "source": [
    "append new entry to list"
   ]
  },
  {
   "cell_type": "code",
   "execution_count": 43,
   "id": "9ef0510d",
   "metadata": {},
   "outputs": [],
   "source": [
    "students.append('jkl')"
   ]
  },
  {
   "cell_type": "code",
   "execution_count": 9,
   "id": "630118b8",
   "metadata": {},
   "outputs": [
    {
     "name": "stdout",
     "output_type": "stream",
     "text": [
      "['abc', 'def', 'ghi', 'jkl']\n"
     ]
    }
   ],
   "source": [
    "print(students)"
   ]
  },
  {
   "cell_type": "code",
   "execution_count": 44,
   "id": "ed27333d",
   "metadata": {},
   "outputs": [],
   "source": [
    "students.insert(2,'xyz')"
   ]
  },
  {
   "cell_type": "code",
   "execution_count": 45,
   "id": "54cd34ac",
   "metadata": {},
   "outputs": [],
   "source": [
    "#insert entry at specific index"
   ]
  },
  {
   "cell_type": "code",
   "execution_count": 46,
   "id": "fce76600",
   "metadata": {},
   "outputs": [
    {
     "name": "stdout",
     "output_type": "stream",
     "text": [
      "['abc', 'def', 'xyz', 'ghi', 'jkl']\n"
     ]
    }
   ],
   "source": [
    "print(students)"
   ]
  },
  {
   "cell_type": "code",
   "execution_count": 13,
   "id": "3fbded8a",
   "metadata": {},
   "outputs": [],
   "source": [
    "#interview question - \n",
    "#can you please explain what is the difference between append and insert method in a list\n",
    "\n",
    "## append can only add new entry at the end of list\n",
    "## insert can add new entry at any index number in a list"
   ]
  },
  {
   "cell_type": "code",
   "execution_count": 14,
   "id": "83e68279",
   "metadata": {},
   "outputs": [],
   "source": [
    "#how to edit/alter entry in list"
   ]
  },
  {
   "cell_type": "code",
   "execution_count": 33,
   "id": "4514f76b",
   "metadata": {},
   "outputs": [],
   "source": [
    "students[2] = 'kkk'"
   ]
  },
  {
   "cell_type": "code",
   "execution_count": 24,
   "id": "32789412",
   "metadata": {},
   "outputs": [
    {
     "name": "stdout",
     "output_type": "stream",
     "text": [
      "['abc', 'def', 'kkk', 'ghi', 'jkl']\n"
     ]
    }
   ],
   "source": [
    "print(students)"
   ]
  },
  {
   "cell_type": "code",
   "execution_count": 25,
   "id": "1c6cc930",
   "metadata": {},
   "outputs": [],
   "source": [
    "#how to delete entry from list"
   ]
  },
  {
   "cell_type": "code",
   "execution_count": 32,
   "id": "973778bc",
   "metadata": {},
   "outputs": [],
   "source": [
    "#deleting :\n",
    "    \n",
    "#    1. temp delete ---> pop() ===> it will be creating a carbon copy of the deleted item and stores the values assigned to it, by default it will be deleting the last element from list\n",
    "#    2. perm delete ---> \n",
    "    \n",
    "    "
   ]
  },
  {
   "cell_type": "code",
   "execution_count": 47,
   "id": "d34e716f",
   "metadata": {},
   "outputs": [],
   "source": [
    "x = students.pop(2)"
   ]
  },
  {
   "cell_type": "code",
   "execution_count": 48,
   "id": "7f87aef4",
   "metadata": {},
   "outputs": [
    {
     "name": "stdout",
     "output_type": "stream",
     "text": [
      "['abc', 'def', 'ghi', 'jkl']\n",
      "xyz\n"
     ]
    }
   ],
   "source": [
    "print(students)\n",
    "print (x)"
   ]
  },
  {
   "cell_type": "code",
   "execution_count": 49,
   "id": "8a67b335",
   "metadata": {},
   "outputs": [],
   "source": [
    "#perm delete"
   ]
  },
  {
   "cell_type": "code",
   "execution_count": 50,
   "id": "4f7f8c3d",
   "metadata": {},
   "outputs": [],
   "source": [
    "del students[0]"
   ]
  },
  {
   "cell_type": "code",
   "execution_count": 51,
   "id": "e2488c93",
   "metadata": {},
   "outputs": [
    {
     "name": "stdout",
     "output_type": "stream",
     "text": [
      "['def', 'ghi', 'jkl']\n"
     ]
    }
   ],
   "source": [
    "print(students)"
   ]
  },
  {
   "cell_type": "code",
   "execution_count": 52,
   "id": "35b18a76",
   "metadata": {},
   "outputs": [],
   "source": [
    "students.remove('jkl')"
   ]
  },
  {
   "cell_type": "code",
   "execution_count": 53,
   "id": "1e14090e",
   "metadata": {},
   "outputs": [
    {
     "name": "stdout",
     "output_type": "stream",
     "text": [
      "['def', 'ghi']\n"
     ]
    }
   ],
   "source": [
    "print(students)"
   ]
  },
  {
   "cell_type": "code",
   "execution_count": 54,
   "id": "51c314a8",
   "metadata": {},
   "outputs": [],
   "source": [
    "# assign list\n",
    "numbers = [1, 2, 3, 2, 3, 4, 5]\n"
   ]
  },
  {
   "cell_type": "code",
   "execution_count": 55,
   "id": "a729f52f",
   "metadata": {},
   "outputs": [
    {
     "data": {
      "text/plain": [
       "5"
      ]
     },
     "execution_count": 55,
     "metadata": {},
     "output_type": "execute_result"
    }
   ],
   "source": [
    "  \n",
    "# use remove()\n",
    "numbers.pop(-1)"
   ]
  },
  {
   "cell_type": "code",
   "execution_count": 56,
   "id": "14243296",
   "metadata": {},
   "outputs": [],
   "source": [
    "# use del\n",
    "del numbers[-1]"
   ]
  },
  {
   "cell_type": "code",
   "execution_count": 57,
   "id": "4d94a310",
   "metadata": {},
   "outputs": [
    {
     "name": "stdout",
     "output_type": "stream",
     "text": [
      "[1, 2, 3, 2, 3]\n"
     ]
    }
   ],
   "source": [
    "print(numbers)"
   ]
  },
  {
   "cell_type": "code",
   "execution_count": null,
   "id": "31262e2f",
   "metadata": {
    "scrolled": true
   },
   "outputs": [],
   "source": []
  },
  {
   "cell_type": "code",
   "execution_count": null,
   "id": "f77174e4",
   "metadata": {},
   "outputs": [],
   "source": []
  }
 ],
 "metadata": {
  "kernelspec": {
   "display_name": "Python 3 (ipykernel)",
   "language": "python",
   "name": "python3"
  },
  "language_info": {
   "codemirror_mode": {
    "name": "ipython",
    "version": 3
   },
   "file_extension": ".py",
   "mimetype": "text/x-python",
   "name": "python",
   "nbconvert_exporter": "python",
   "pygments_lexer": "ipython3",
   "version": "3.10.9"
  }
 },
 "nbformat": 4,
 "nbformat_minor": 5
}
