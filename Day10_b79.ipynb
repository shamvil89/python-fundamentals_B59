{
 "cells": [
  {
   "cell_type": "code",
   "execution_count": null,
   "id": "64105a5f",
   "metadata": {},
   "outputs": [],
   "source": [
    "introduction to functions in python"
   ]
  },
  {
   "cell_type": "code",
   "execution_count": null,
   "id": "8624d31f",
   "metadata": {},
   "outputs": [],
   "source": [
    "def is the keyword to efine a function"
   ]
  },
  {
   "cell_type": "code",
   "execution_count": 6,
   "id": "3ae85beb",
   "metadata": {},
   "outputs": [],
   "source": [
    "def greet_user():\n",
    "    \"\"\"creating the function\"\"\"\n",
    "    print(\"hello\")"
   ]
  },
  {
   "cell_type": "code",
   "execution_count": 4,
   "id": "2d9275cb",
   "metadata": {},
   "outputs": [
    {
     "name": "stdout",
     "output_type": "stream",
     "text": [
      "hello\n"
     ]
    }
   ],
   "source": [
    "greet_user()"
   ]
  },
  {
   "cell_type": "code",
   "execution_count": 10,
   "id": "3c6a4e6d",
   "metadata": {},
   "outputs": [],
   "source": [
    "def greet_user(username):\n",
    "    \"\"\"creating the function\"\"\"\n",
    "    print(f\"hello, {username}\")"
   ]
  },
  {
   "cell_type": "code",
   "execution_count": 11,
   "id": "0f25d00e",
   "metadata": {},
   "outputs": [
    {
     "name": "stdout",
     "output_type": "stream",
     "text": [
      "hello, shamvil\n"
     ]
    }
   ],
   "source": [
    "greet_user('shamvil')"
   ]
  },
  {
   "cell_type": "code",
   "execution_count": null,
   "id": "2c19767c",
   "metadata": {},
   "outputs": [],
   "source": []
  },
  {
   "cell_type": "code",
   "execution_count": null,
   "id": "0ea84403",
   "metadata": {},
   "outputs": [],
   "source": []
  },
  {
   "cell_type": "code",
   "execution_count": null,
   "id": "102d78ac",
   "metadata": {},
   "outputs": [],
   "source": []
  },
  {
   "cell_type": "code",
   "execution_count": null,
   "id": "ded37f1c",
   "metadata": {},
   "outputs": [],
   "source": [
    "Types of arguments"
   ]
  },
  {
   "cell_type": "code",
   "execution_count": 13,
   "id": "15b5b7d1",
   "metadata": {},
   "outputs": [],
   "source": [
    "#req: I want to create a function with a name called describe_pet where in it needs to accept two parameters\n",
    "    \n",
    "#    pet name and animal type"
   ]
  },
  {
   "cell_type": "code",
   "execution_count": 21,
   "id": "feb283cc",
   "metadata": {},
   "outputs": [],
   "source": [
    "def describe_pet(petname,animal,animaltype):\n",
    "    \"\"\"creating a afunction to describe the pet\"\"\"\n",
    "    animals = [{animal},{animaltype},{petname}]\n",
    "    print(animals)\n",
    "    \n",
    "    print(f\"I have a {animal}\")\n",
    "    print(f\"my {animal}'s name is {petname}\")"
   ]
  },
  {
   "cell_type": "code",
   "execution_count": 22,
   "id": "e34dae9d",
   "metadata": {},
   "outputs": [
    {
     "name": "stdout",
     "output_type": "stream",
     "text": [
      "[{'cat'}, {'mammal'}, {'timmy'}]\n",
      "I have a cat\n",
      "my cat's name is timmy\n"
     ]
    }
   ],
   "source": [
    "describe_pet('timmy','cat','mammal') #positional arguments, pass arguments in same order as parameters declared"
   ]
  },
  {
   "cell_type": "code",
   "execution_count": 23,
   "id": "2c437e72",
   "metadata": {},
   "outputs": [],
   "source": [
    "#keyword arguments"
   ]
  },
  {
   "cell_type": "code",
   "execution_count": null,
   "id": "cb60a0f5",
   "metadata": {},
   "outputs": [],
   "source": []
  },
  {
   "cell_type": "code",
   "execution_count": 28,
   "id": "1eaf9a42",
   "metadata": {},
   "outputs": [
    {
     "name": "stdout",
     "output_type": "stream",
     "text": [
      "[{'cat'}, {'mammal'}, {'timmy'}]\n",
      "I have a cat\n",
      "my cat's name is timmy\n"
     ]
    }
   ],
   "source": [
    "describe_pet(animal = 'cat',animaltype = 'mammal', petname = 'timmy')"
   ]
  },
  {
   "cell_type": "code",
   "execution_count": 29,
   "id": "a5fc3c5a",
   "metadata": {},
   "outputs": [],
   "source": [
    "#default argument category"
   ]
  },
  {
   "cell_type": "code",
   "execution_count": null,
   "id": "2f0ec5d1",
   "metadata": {},
   "outputs": [],
   "source": [
    "non-default gets declared first, default parameter, last"
   ]
  },
  {
   "cell_type": "code",
   "execution_count": 30,
   "id": "71bab202",
   "metadata": {},
   "outputs": [],
   "source": [
    "def describe_pet(petname,animal,animaltype = 'mammal'):\n",
    "    \"\"\"creating a afunction to describe the pet\"\"\"\n",
    "    animals = [{animal},{animaltype},{petname}]\n",
    "    print(animals)\n",
    "    \n",
    "    print(f\"I have a {animal}\")\n",
    "    print(f\"my {animal}'s name is {petname}\")"
   ]
  },
  {
   "cell_type": "code",
   "execution_count": 31,
   "id": "8e909392",
   "metadata": {},
   "outputs": [
    {
     "name": "stdout",
     "output_type": "stream",
     "text": [
      "[{'cat'}, {'mammal'}, {'timmy'}]\n",
      "I have a cat\n",
      "my cat's name is timmy\n"
     ]
    }
   ],
   "source": [
    "describe_pet(animal = 'cat', petname = 'timmy')"
   ]
  },
  {
   "cell_type": "code",
   "execution_count": null,
   "id": "1e999639",
   "metadata": {},
   "outputs": [],
   "source": []
  },
  {
   "cell_type": "code",
   "execution_count": null,
   "id": "2d5fd545",
   "metadata": {},
   "outputs": [],
   "source": []
  },
  {
   "cell_type": "code",
   "execution_count": null,
   "id": "e611e752",
   "metadata": {},
   "outputs": [],
   "source": [
    "speculative or arbitary arguments:\n",
    "    \n",
    "    "
   ]
  },
  {
   "cell_type": "code",
   "execution_count": 32,
   "id": "4d0ca1d8",
   "metadata": {},
   "outputs": [],
   "source": [
    "def make_pizza(toppings):\n",
    "    \"\"\"creating a function to capture the toppings ordered\"\"\"\n",
    "    print(f\"order of toppings {toppings}\")"
   ]
  },
  {
   "cell_type": "code",
   "execution_count": 33,
   "id": "6442413b",
   "metadata": {},
   "outputs": [
    {
     "name": "stdout",
     "output_type": "stream",
     "text": [
      "order of toppings onion\n"
     ]
    }
   ],
   "source": [
    "make_pizza('onion')"
   ]
  },
  {
   "cell_type": "markdown",
   "id": "ccb20976",
   "metadata": {},
   "source": [
    "make_pizza('onion','cheese')"
   ]
  },
  {
   "cell_type": "code",
   "execution_count": 34,
   "id": "63d87f03",
   "metadata": {},
   "outputs": [
    {
     "ename": "TypeError",
     "evalue": "make_pizza() takes 1 positional argument but 2 were given",
     "output_type": "error",
     "traceback": [
      "\u001b[0;31m---------------------------------------------------------------------------\u001b[0m",
      "\u001b[0;31mTypeError\u001b[0m                                 Traceback (most recent call last)",
      "Cell \u001b[0;32mIn[34], line 1\u001b[0m\n\u001b[0;32m----> 1\u001b[0m make_pizza(\u001b[38;5;124m'\u001b[39m\u001b[38;5;124monion\u001b[39m\u001b[38;5;124m'\u001b[39m,\u001b[38;5;124m'\u001b[39m\u001b[38;5;124mcheese\u001b[39m\u001b[38;5;124m'\u001b[39m)\n",
      "\u001b[0;31mTypeError\u001b[0m: make_pizza() takes 1 positional argument but 2 were given"
     ]
    }
   ],
   "source": [
    "make_pizza('onion','cheese')"
   ]
  },
  {
   "cell_type": "code",
   "execution_count": null,
   "id": "a8275955",
   "metadata": {},
   "outputs": [],
   "source": []
  },
  {
   "cell_type": "code",
   "execution_count": 35,
   "id": "9f141de2",
   "metadata": {},
   "outputs": [],
   "source": [
    "def make_pizza(*toppings):\n",
    "    \"\"\"creating a function to capture the toppings ordered\"\"\"\n",
    "    print(f\"order of toppings {toppings}\")"
   ]
  },
  {
   "cell_type": "code",
   "execution_count": 36,
   "id": "d867efd8",
   "metadata": {},
   "outputs": [
    {
     "name": "stdout",
     "output_type": "stream",
     "text": [
      "order of toppings ('onion', 'cheese')\n"
     ]
    }
   ],
   "source": [
    "make_pizza('onion','cheese')"
   ]
  },
  {
   "cell_type": "code",
   "execution_count": null,
   "id": "20b30a1a",
   "metadata": {},
   "outputs": [],
   "source": []
  }
 ],
 "metadata": {
  "kernelspec": {
   "display_name": "Python 3 (ipykernel)",
   "language": "python",
   "name": "python3"
  },
  "language_info": {
   "codemirror_mode": {
    "name": "ipython",
    "version": 3
   },
   "file_extension": ".py",
   "mimetype": "text/x-python",
   "name": "python",
   "nbconvert_exporter": "python",
   "pygments_lexer": "ipython3",
   "version": "3.11.3"
  }
 },
 "nbformat": 4,
 "nbformat_minor": 5
}
