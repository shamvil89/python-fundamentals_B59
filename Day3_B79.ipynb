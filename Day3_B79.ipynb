{
 "cells": [
  {
   "cell_type": "code",
   "execution_count": 1,
   "id": "c968b195",
   "metadata": {},
   "outputs": [],
   "source": [
    "#Continuation with string datatype"
   ]
  },
  {
   "cell_type": "code",
   "execution_count": null,
   "id": "03db7a75",
   "metadata": {},
   "outputs": [],
   "source": []
  },
  {
   "cell_type": "code",
   "execution_count": 3,
   "id": "a2d58423",
   "metadata": {},
   "outputs": [],
   "source": [
    "#understanding the concept of f stings :"
   ]
  },
  {
   "cell_type": "code",
   "execution_count": 4,
   "id": "47eb2b7b",
   "metadata": {},
   "outputs": [],
   "source": [
    "firstname = \"shamvil\""
   ]
  },
  {
   "cell_type": "code",
   "execution_count": 5,
   "id": "71edebf2",
   "metadata": {},
   "outputs": [],
   "source": [
    "lastname = 'kazmi'"
   ]
  },
  {
   "cell_type": "code",
   "execution_count": 6,
   "id": "82e6f9b5",
   "metadata": {},
   "outputs": [],
   "source": [
    "#I want the fullname...."
   ]
  },
  {
   "cell_type": "code",
   "execution_count": 12,
   "id": "a2459647",
   "metadata": {},
   "outputs": [
    {
     "name": "stdout",
     "output_type": "stream",
     "text": [
      "shamvil kazmi\n"
     ]
    }
   ],
   "source": [
    "print (firstname + ' ' + lastname)"
   ]
  },
  {
   "cell_type": "code",
   "execution_count": 8,
   "id": "6df0ff32",
   "metadata": {},
   "outputs": [],
   "source": [
    "#general syntax of f strings :\n",
    "\n",
    "# f\"custom message ,{place_holder1} {place_holder2}.....{place_holdern}\""
   ]
  },
  {
   "cell_type": "code",
   "execution_count": 11,
   "id": "b32f8f57",
   "metadata": {},
   "outputs": [
    {
     "name": "stdout",
     "output_type": "stream",
     "text": [
      "shamvil kazmi\n"
     ]
    }
   ],
   "source": [
    "fullname = f\"{firstname} {lastname}\"\n",
    "print(fullname)"
   ]
  },
  {
   "cell_type": "code",
   "execution_count": 13,
   "id": "777b5c36",
   "metadata": {},
   "outputs": [
    {
     "name": "stdout",
     "output_type": "stream",
     "text": [
      "keep up the good work, shamvil kazmi\n"
     ]
    }
   ],
   "source": [
    "message = f\"keep up the good work, {fullname}\"\n",
    "\n",
    "print (message)"
   ]
  },
  {
   "cell_type": "code",
   "execution_count": null,
   "id": "5ddbd74f",
   "metadata": {},
   "outputs": [],
   "source": [
    "\n"
   ]
  },
  {
   "cell_type": "code",
   "execution_count": null,
   "id": "a84561b2",
   "metadata": {},
   "outputs": [],
   "source": []
  },
  {
   "cell_type": "code",
   "execution_count": 15,
   "id": "773ed0e5",
   "metadata": {},
   "outputs": [
    {
     "name": "stdout",
     "output_type": "stream",
     "text": [
      "Shamvil Kazmi\n"
     ]
    }
   ],
   "source": [
    "print(fullname.title())"
   ]
  },
  {
   "cell_type": "code",
   "execution_count": 21,
   "id": "d3be8e12",
   "metadata": {},
   "outputs": [
    {
     "name": "stdout",
     "output_type": "stream",
     "text": [
      "keep up the good work, Shamvil Kazmi\n"
     ]
    }
   ],
   "source": [
    "message = f\"keep up the good work, {fullname.title()}\"\n",
    "\n",
    "print (message)"
   ]
  },
  {
   "cell_type": "code",
   "execution_count": 22,
   "id": "4a59ebf2",
   "metadata": {},
   "outputs": [
    {
     "name": "stdout",
     "output_type": "stream",
     "text": [
      "Keep up the good work, shamvil kazmi\n"
     ]
    }
   ],
   "source": [
    "message = f\"keep up the good work, {fullname.title()}\"\n",
    "\n",
    "print (message.capitalize())"
   ]
  },
  {
   "cell_type": "code",
   "execution_count": null,
   "id": "408c9bb3",
   "metadata": {},
   "outputs": [],
   "source": [
    "\n"
   ]
  },
  {
   "cell_type": "code",
   "execution_count": null,
   "id": "52f4efe8",
   "metadata": {},
   "outputs": [],
   "source": []
  },
  {
   "cell_type": "code",
   "execution_count": null,
   "id": "421346bf",
   "metadata": {},
   "outputs": [],
   "source": []
  },
  {
   "cell_type": "code",
   "execution_count": 23,
   "id": "f2406004",
   "metadata": {},
   "outputs": [],
   "source": [
    "#adding whitespaces to strings :"
   ]
  },
  {
   "cell_type": "code",
   "execution_count": null,
   "id": "108d974f",
   "metadata": {},
   "outputs": [],
   "source": []
  },
  {
   "cell_type": "code",
   "execution_count": 27,
   "id": "464d5f6b",
   "metadata": {},
   "outputs": [
    {
     "name": "stdout",
     "output_type": "stream",
     "text": [
      "fav_lang:pythonjavacc++swiftjavascript\n"
     ]
    }
   ],
   "source": [
    "print (\"fav_lang:pythonjavacc++swiftjavascript\")"
   ]
  },
  {
   "cell_type": "code",
   "execution_count": 26,
   "id": "973b3b4b",
   "metadata": {},
   "outputs": [
    {
     "name": "stdout",
     "output_type": "stream",
     "text": [
      "fav_lang:\n",
      "python\n",
      "java\n",
      "c\n",
      "c++\n",
      "swift\n",
      "javascript\n"
     ]
    }
   ],
   "source": [
    "print (\"fav_lang:\\npython\\njava\\nc\\nc++\\nswift\\njavascript\")"
   ]
  },
  {
   "cell_type": "code",
   "execution_count": 28,
   "id": "3b556fda",
   "metadata": {},
   "outputs": [],
   "source": [
    "# \\n ----new line delimiter"
   ]
  },
  {
   "cell_type": "code",
   "execution_count": null,
   "id": "af202c82",
   "metadata": {},
   "outputs": [],
   "source": []
  },
  {
   "cell_type": "code",
   "execution_count": 29,
   "id": "53ff2206",
   "metadata": {},
   "outputs": [
    {
     "name": "stdout",
     "output_type": "stream",
     "text": [
      "fav_lang:\n",
      "\tpython\n",
      "\tjava\n",
      "\tc\n",
      "\tc++\n",
      "\tswift\n",
      "\tjavascript\n"
     ]
    }
   ],
   "source": [
    "print (\"fav_lang:\\n\\tpython\\n\\tjava\\n\\tc\\n\\tc++\\n\\tswift\\n\\tjavascript\")"
   ]
  },
  {
   "cell_type": "code",
   "execution_count": 30,
   "id": "13d8cfdb",
   "metadata": {},
   "outputs": [],
   "source": [
    "#\\t is tab delimiter"
   ]
  },
  {
   "cell_type": "code",
   "execution_count": null,
   "id": "3ead0ec2",
   "metadata": {},
   "outputs": [],
   "source": []
  },
  {
   "cell_type": "code",
   "execution_count": 31,
   "id": "2a796e18",
   "metadata": {},
   "outputs": [],
   "source": [
    "#it creats one tab space"
   ]
  },
  {
   "cell_type": "code",
   "execution_count": null,
   "id": "0ab9e2f8",
   "metadata": {},
   "outputs": [],
   "source": []
  },
  {
   "cell_type": "code",
   "execution_count": 33,
   "id": "f5de9544",
   "metadata": {},
   "outputs": [],
   "source": [
    "#removing whitespaces from strings :"
   ]
  },
  {
   "cell_type": "code",
   "execution_count": null,
   "id": "ec9e3b79",
   "metadata": {},
   "outputs": [],
   "source": []
  },
  {
   "cell_type": "code",
   "execution_count": 34,
   "id": "a3fc4ef5",
   "metadata": {},
   "outputs": [
    {
     "name": "stdout",
     "output_type": "stream",
     "text": [
      " python  \n"
     ]
    }
   ],
   "source": [
    "language = ' python  '\n",
    "\n",
    "\n",
    "print(language)"
   ]
  },
  {
   "cell_type": "code",
   "execution_count": 35,
   "id": "9cd65f26",
   "metadata": {},
   "outputs": [
    {
     "name": "stdout",
     "output_type": "stream",
     "text": [
      "python  \n"
     ]
    }
   ],
   "source": [
    "language2 = 'python  '\n",
    "\n",
    "\n",
    "print(language2)"
   ]
  },
  {
   "cell_type": "code",
   "execution_count": 36,
   "id": "291fcc0e",
   "metadata": {
    "scrolled": false
   },
   "outputs": [
    {
     "name": "stdout",
     "output_type": "stream",
     "text": [
      "   python\n"
     ]
    }
   ],
   "source": [
    "language3 = '   python'\n",
    "\n",
    "\n",
    "print(language3)"
   ]
  },
  {
   "cell_type": "code",
   "execution_count": 37,
   "id": "e4bb26d4",
   "metadata": {},
   "outputs": [],
   "source": [
    "#eliminate whitespace"
   ]
  },
  {
   "cell_type": "code",
   "execution_count": null,
   "id": "5bc0dbfd",
   "metadata": {},
   "outputs": [],
   "source": []
  },
  {
   "cell_type": "code",
   "execution_count": 38,
   "id": "76aa6e55",
   "metadata": {},
   "outputs": [],
   "source": [
    "#leftstrip --->"
   ]
  },
  {
   "cell_type": "code",
   "execution_count": 40,
   "id": "a35e0433",
   "metadata": {},
   "outputs": [
    {
     "data": {
      "text/plain": [
       "'python'"
      ]
     },
     "execution_count": 40,
     "metadata": {},
     "output_type": "execute_result"
    }
   ],
   "source": [
    "language3.lstrip()"
   ]
  },
  {
   "cell_type": "code",
   "execution_count": 41,
   "id": "56123f93",
   "metadata": {},
   "outputs": [],
   "source": [
    "#rightstrip --->"
   ]
  },
  {
   "cell_type": "code",
   "execution_count": 42,
   "id": "b2614502",
   "metadata": {},
   "outputs": [
    {
     "data": {
      "text/plain": [
       "'python'"
      ]
     },
     "execution_count": 42,
     "metadata": {},
     "output_type": "execute_result"
    }
   ],
   "source": [
    "language2.rstrip()"
   ]
  },
  {
   "cell_type": "code",
   "execution_count": 44,
   "id": "db6d13e9",
   "metadata": {},
   "outputs": [
    {
     "data": {
      "text/plain": [
       "'python'"
      ]
     },
     "execution_count": 44,
     "metadata": {},
     "output_type": "execute_result"
    }
   ],
   "source": [
    "language.rstrip().lstrip()"
   ]
  },
  {
   "cell_type": "code",
   "execution_count": 45,
   "id": "014cdeab",
   "metadata": {},
   "outputs": [
    {
     "data": {
      "text/plain": [
       "'python'"
      ]
     },
     "execution_count": 45,
     "metadata": {},
     "output_type": "execute_result"
    }
   ],
   "source": [
    "language.strip()"
   ]
  },
  {
   "cell_type": "code",
   "execution_count": null,
   "id": "79bface4",
   "metadata": {},
   "outputs": [],
   "source": []
  }
 ],
 "metadata": {
  "kernelspec": {
   "display_name": "Python 3 (ipykernel)",
   "language": "python",
   "name": "python3"
  },
  "language_info": {
   "codemirror_mode": {
    "name": "ipython",
    "version": 3
   },
   "file_extension": ".py",
   "mimetype": "text/x-python",
   "name": "python",
   "nbconvert_exporter": "python",
   "pygments_lexer": "ipython3",
   "version": "3.10.9"
  }
 },
 "nbformat": 4,
 "nbformat_minor": 5
}
